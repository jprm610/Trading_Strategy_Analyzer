{
 "cells": [
  {
   "cell_type": "code",
   "execution_count": 1,
   "metadata": {},
   "outputs": [],
   "source": [
    "import selenium\n",
    "from selenium import webdriver\n",
    "from selenium.webdriver.support import expected_conditions as EC\n",
    "from selenium.webdriver.common.by import By\n",
    "from selenium.webdriver.support.ui import WebDriverWait\n",
    "from selenium.webdriver.support.ui import Select\n",
    "import time\n",
    "import pandas as pd\n",
    "import numpy as np\n",
    "import pandas as pd\n",
    "import numpy as np\n",
    "import html5lib\n",
    "import requests\n",
    "import yfinance as yf"
   ]
  },
  {
   "cell_type": "code",
   "execution_count": 2,
   "metadata": {},
   "outputs": [],
   "source": [
    "driver = webdriver.Chrome('chromedriver.exe')\n",
    "driver.get('https://finance.yahoo.com/commodities')"
   ]
  },
  {
   "cell_type": "code",
   "execution_count": 3,
   "metadata": {},
   "outputs": [],
   "source": [
    "tickers = []\n",
    "\n",
    "table = driver.find_element_by_tag_name(\"table\")\n",
    "rows = table.find_elements_by_tag_name(\"tr\")\n",
    "for row in rows :\n",
    "    cells = row.find_elements_by_tag_name(\"td\")\n",
    "\n",
    "    try :\n",
    "        tickers.append(cells[0].text)\n",
    "    except :\n",
    "        continue"
   ]
  },
  {
   "cell_type": "code",
   "execution_count": 4,
   "metadata": {},
   "outputs": [
    {
     "data": {
      "text/plain": [
       "['ES=F',\n",
       " 'YM=F',\n",
       " 'NQ=F',\n",
       " 'RTY=F',\n",
       " 'ZB=F',\n",
       " 'ZN=F',\n",
       " 'ZF=F',\n",
       " 'ZT=F',\n",
       " 'GC=F',\n",
       " 'MGC=F',\n",
       " 'SI=F',\n",
       " 'SIL=F',\n",
       " 'PL=F',\n",
       " 'HG=F',\n",
       " 'PA=F',\n",
       " 'CL=F',\n",
       " 'HO=F',\n",
       " 'NG=F',\n",
       " 'RB=F',\n",
       " 'BZ=F',\n",
       " 'B0=F',\n",
       " 'ZC=F',\n",
       " 'ZO=F',\n",
       " 'KE=F',\n",
       " 'ZR=F',\n",
       " 'ZM=F',\n",
       " 'ZL=F',\n",
       " 'ZS=F',\n",
       " 'GF=F',\n",
       " 'HE=F',\n",
       " 'LE=F',\n",
       " 'CC=F',\n",
       " 'KC=F',\n",
       " 'CT=F',\n",
       " 'LBS=F',\n",
       " 'OJ=F',\n",
       " 'SB=F']"
      ]
     },
     "execution_count": 4,
     "metadata": {},
     "output_type": "execute_result"
    }
   ],
   "source": [
    "tickers"
   ]
  },
  {
   "cell_type": "code",
   "execution_count": 5,
   "metadata": {},
   "outputs": [],
   "source": [
    "tickers_df = pd.DataFrame({\n",
    "    'tickers': np.array(tickers)\n",
    "})\n",
    "tickers_df.to_csv('commodities_tickers.csv')"
   ]
  }
 ],
 "metadata": {
  "interpreter": {
   "hash": "d5c50102a3eb5028dbac88969e88a1e993dbc7b98a96addad4e4e76d64c6c29a"
  },
  "kernelspec": {
   "display_name": "Python 3.9.6 64-bit",
   "language": "python",
   "name": "python3"
  },
  "language_info": {
   "codemirror_mode": {
    "name": "ipython",
    "version": 3
   },
   "file_extension": ".py",
   "mimetype": "text/x-python",
   "name": "python",
   "nbconvert_exporter": "python",
   "pygments_lexer": "ipython3",
   "version": "3.9.6"
  },
  "orig_nbformat": 4
 },
 "nbformat": 4,
 "nbformat_minor": 2
}
